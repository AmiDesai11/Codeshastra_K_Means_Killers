{
 "cells": [
  {
   "cell_type": "markdown",
   "id": "1b428267",
   "metadata": {},
   "source": [
    "# ============================================================="
   ]
  },
  {
   "cell_type": "markdown",
   "id": "13ee84a0",
   "metadata": {},
   "source": [
    "# RAG Implementation with MSSQL: Pilot"
   ]
  },
  {
   "cell_type": "markdown",
   "id": "d7cf2402",
   "metadata": {},
   "source": [
    "# ============================================================="
   ]
  },
  {
   "cell_type": "markdown",
   "id": "176f6233",
   "metadata": {},
   "source": [
    "### Libraries"
   ]
  },
  {
   "cell_type": "code",
   "execution_count": 1,
   "id": "4ab0746c",
   "metadata": {},
   "outputs": [],
   "source": [
    "# !pip install -U langchain langchain_experimental\n",
    "# !pip install typing-extensions --upgrade\n",
    "\n",
    "from langchain.llms import LlamaCpp\n",
    "from langchain_community.utilities import SQLDatabase\n",
    "from langchain_experimental.sql import SQLDatabaseChain\n",
    "from langchain.chains import create_sql_query_chain"
   ]
  },
  {
   "cell_type": "markdown",
   "id": "a388c536",
   "metadata": {},
   "source": [
    "### Database Connection in Langchain "
   ]
  },
  {
   "cell_type": "code",
   "execution_count": 2,
   "id": "a23a5f7d",
   "metadata": {},
   "outputs": [],
   "source": [
    "# Connection string\n",
    "uri = \"mssql+pyodbc://@DESKTOP-UM221JG\\\\SQLEXPRESS/Test?driver=ODBC+Driver+17+for+SQL+Server&Trusted_Connection=yes\"\n",
    "db = SQLDatabase.from_uri(uri, include_tables=[\"Employee\"])"
   ]
  },
  {
   "cell_type": "code",
   "execution_count": 3,
   "id": "e811f721",
   "metadata": {},
   "outputs": [
    {
     "name": "stdout",
     "output_type": "stream",
     "text": [
      "\n",
      "CREATE TABLE [Employee] (\n",
      "\t[EmployeeId] INTEGER NOT NULL, \n",
      "\t[LastName] NVARCHAR(20) COLLATE SQL_Latin1_General_CP1_CI_AS NOT NULL, \n",
      "\t[FirstName] NVARCHAR(20) COLLATE SQL_Latin1_General_CP1_CI_AS NOT NULL, \n",
      "\t[Title] NVARCHAR(30) COLLATE SQL_Latin1_General_CP1_CI_AS NULL, \n",
      "\t[ReportsTo] INTEGER NULL, \n",
      "\t[BirthDate] DATETIME NULL, \n",
      "\t[HireDate] DATETIME NULL, \n",
      "\t[Address] NVARCHAR(70) COLLATE SQL_Latin1_General_CP1_CI_AS NULL, \n",
      "\t[City] NVARCHAR(40) COLLATE SQL_Latin1_General_CP1_CI_AS NULL, \n",
      "\t[State] NVARCHAR(40) COLLATE SQL_Latin1_General_CP1_CI_AS NULL, \n",
      "\t[Country] NVARCHAR(40) COLLATE SQL_Latin1_General_CP1_CI_AS NULL, \n",
      "\t[PostalCode] NVARCHAR(10) COLLATE SQL_Latin1_General_CP1_CI_AS NULL, \n",
      "\t[Phone] NVARCHAR(24) COLLATE SQL_Latin1_General_CP1_CI_AS NULL, \n",
      "\t[Fax] NVARCHAR(24) COLLATE SQL_Latin1_General_CP1_CI_AS NULL, \n",
      "\t[Email] NVARCHAR(60) COLLATE SQL_Latin1_General_CP1_CI_AS NULL\n",
      ")\n",
      "\n",
      "/*\n",
      "3 rows from Employee table:\n",
      "EmployeeId\tLastName\tFirstName\tTitle\tReportsTo\tBirthDate\tHireDate\tAddress\tCity\tState\tCountry\tPostalCode\tPhone\tFax\tEmail\n",
      "1\tAdams\tAndrew\tGeneral Manager\tNone\t1962-02-18 00:00:00\t2002-08-14 00:00:00\t11120 Jasper Ave NW\tEdmonton\tAB\tCanada\tT5K 2N1\t+1 (780) 428-9482\t+1 (780) 428-3457\tandrew@chinookcorp.com\n",
      "2\tEdwards\tNancy\tSales Manager\t1\t1958-12-08 00:00:00\t2002-05-01 00:00:00\t825 8 Ave SW\tCalgary\tAB\tCanada\tT2P 2T3\t+1 (403) 262-3443\t+1 (403) 262-3322\tnancy@chinookcorp.com\n",
      "3\tPeacock\tJane\tSales Support Agent\t2\t1973-08-29 00:00:00\t2002-04-01 00:00:00\t1111 6 Ave SW\tCalgary\tAB\tCanada\tT2P 5M5\t+1 (403) 262-3443\t+1 (403) 262-6712\tjane@chinookcorp.com\n",
      "*/\n"
     ]
    }
   ],
   "source": [
    "# Table information schema\n",
    "print(db.table_info)"
   ]
  },
  {
   "cell_type": "markdown",
   "id": "91ca53db",
   "metadata": {},
   "source": [
    "### Loading Mistral-Instruct LLM "
   ]
  },
  {
   "cell_type": "code",
   "execution_count": 4,
   "id": "784e3462",
   "metadata": {},
   "outputs": [
    {
     "name": "stderr",
     "output_type": "stream",
     "text": [
      "AVX = 1 | AVX2 = 1 | AVX512 = 1 | AVX512_VBMI = 0 | AVX512_VNNI = 0 | FMA = 1 | NEON = 0 | ARM_FMA = 0 | F16C = 1 | FP16_VA = 0 | WASM_SIMD = 0 | BLAS = 0 | SSE3 = 1 | SSSE3 = 0 | VSX = 0 | \n"
     ]
    }
   ],
   "source": [
    "# Defining the model specs for optimized performance \n",
    "llama_model_path = r\"C:\\Users\\DELL\\Desktop\\KSIE\\KSIE LLM Chatbot\\Models\\mistral-7b-instruct-v0.1.Q8_0.gguf\"\n",
    "model_n_ctx = 2048\n",
    "model_n_batch = 512\n",
    "\n",
    "# Initializing the LLM object\n",
    "llm = LlamaCpp(model_path=llama_model_path, n_batch=model_n_batch, n_ctx=model_n_ctx, verbose=True)"
   ]
  },
  {
   "cell_type": "markdown",
   "id": "31fb0f24",
   "metadata": {},
   "source": [
    "### Creating the Retreival Chain"
   ]
  },
  {
   "cell_type": "code",
   "execution_count": 5,
   "id": "28502f32",
   "metadata": {},
   "outputs": [],
   "source": [
    "db_chain = SQLDatabaseChain.from_llm(llm, db, verbose=True)"
   ]
  },
  {
   "cell_type": "markdown",
   "id": "d433e9cd",
   "metadata": {},
   "source": [
    "### Execution "
   ]
  },
  {
   "cell_type": "code",
   "execution_count": 6,
   "id": "850c025e",
   "metadata": {},
   "outputs": [
    {
     "name": "stderr",
     "output_type": "stream",
     "text": [
      "C:\\Users\\DELL\\anaconda3\\lib\\site-packages\\langchain_core\\_api\\deprecation.py:117: LangChainDeprecationWarning: The function `run` was deprecated in LangChain 0.1.0 and will be removed in 0.2.0. Use invoke instead.\n",
      "  warn_deprecated(\n"
     ]
    },
    {
     "name": "stdout",
     "output_type": "stream",
     "text": [
      "\n",
      "\n",
      "\u001b[1m> Entering new SQLDatabaseChain chain...\u001b[0m\n",
      "How many employees are there?\n",
      "SQLQuery:\u001b[32;1m\u001b[1;3mSELECT COUNT(*) FROM [Employee]\u001b[0m\n",
      "SQLResult: \u001b[33;1m\u001b[1;3m[(8,)]\u001b[0m\n",
      "Answer:"
     ]
    },
    {
     "name": "stderr",
     "output_type": "stream",
     "text": [
      "Llama.generate: prefix-match hit\n"
     ]
    },
    {
     "name": "stdout",
     "output_type": "stream",
     "text": [
      "\u001b[32;1m\u001b[1;3mThere are 8 employees in the company.\u001b[0m\n",
      "\u001b[1m> Finished chain.\u001b[0m\n"
     ]
    },
    {
     "data": {
      "text/plain": [
       "'There are 8 employees in the company.'"
      ]
     },
     "execution_count": 6,
     "metadata": {},
     "output_type": "execute_result"
    }
   ],
   "source": [
    "# Example 1\n",
    "db_chain.run(\"How many employees are there?\")"
   ]
  },
  {
   "cell_type": "code",
   "execution_count": 7,
   "id": "5df57950",
   "metadata": {},
   "outputs": [
    {
     "name": "stdout",
     "output_type": "stream",
     "text": [
      "\n",
      "\n",
      "\u001b[1m> Entering new SQLDatabaseChain chain...\u001b[0m\n",
      "In which city does Adams Andrew live?\n",
      "SQLQuery:"
     ]
    },
    {
     "name": "stderr",
     "output_type": "stream",
     "text": [
      "Llama.generate: prefix-match hit\n"
     ]
    },
    {
     "name": "stdout",
     "output_type": "stream",
     "text": [
      "\u001b[32;1m\u001b[1;3mSELECT City \n",
      "FROM [Employee] \n",
      "WHERE [LastName] = 'Adams' AND [FirstName] = 'Andrew';\u001b[0m\n",
      "SQLResult: \u001b[33;1m\u001b[1;3m[('Edmonton',)]\u001b[0m\n",
      "Answer:"
     ]
    },
    {
     "name": "stderr",
     "output_type": "stream",
     "text": [
      "Llama.generate: prefix-match hit\n"
     ]
    },
    {
     "name": "stdout",
     "output_type": "stream",
     "text": [
      "\u001b[32;1m\u001b[1;3mAdams Andrew lives in Edmonton.\u001b[0m\n",
      "\u001b[1m> Finished chain.\u001b[0m\n"
     ]
    },
    {
     "data": {
      "text/plain": [
       "'Adams Andrew lives in Edmonton.'"
      ]
     },
     "execution_count": 7,
     "metadata": {},
     "output_type": "execute_result"
    }
   ],
   "source": [
    "# Example 2\n",
    "db_chain.run(\"In which city does Adams Andrew live?\")"
   ]
  },
  {
   "cell_type": "code",
   "execution_count": 8,
   "id": "b62a56e0",
   "metadata": {},
   "outputs": [
    {
     "name": "stdout",
     "output_type": "stream",
     "text": [
      "\n",
      "\n",
      "\u001b[1m> Entering new SQLDatabaseChain chain...\u001b[0m\n",
      "Which employee was hired most recently?\n",
      "SQLQuery:"
     ]
    },
    {
     "name": "stderr",
     "output_type": "stream",
     "text": [
      "Llama.generate: prefix-match hit\n"
     ]
    },
    {
     "name": "stdout",
     "output_type": "stream",
     "text": [
      "\u001b[32;1m\u001b[1;3mSELECT TOP 1 * FROM [Employee] ORDER BY [HireDate] DESC\u001b[0m\n",
      "SQLResult: \u001b[33;1m\u001b[1;3m[(8, 'Callahan', 'Laura', 'IT Staff', 6, datetime.datetime(1968, 1, 9, 0, 0), datetime.datetime(2004, 3, 4, 0, 0), '923 7 ST NW', 'Lethbridge', 'AB', 'Canada', 'T1H 1Y8', '+1 (403) 467-3351', '+1 (403) 467-8772', 'laura@chinookcorp.com')]\u001b[0m\n",
      "Answer:"
     ]
    },
    {
     "name": "stderr",
     "output_type": "stream",
     "text": [
      "Llama.generate: prefix-match hit\n"
     ]
    },
    {
     "name": "stdout",
     "output_type": "stream",
     "text": [
      "\u001b[32;1m\u001b[1;3mLaura Callahan was hired most recently.\u001b[0m\n",
      "\u001b[1m> Finished chain.\u001b[0m\n"
     ]
    },
    {
     "data": {
      "text/plain": [
       "'Laura Callahan was hired most recently.'"
      ]
     },
     "execution_count": 8,
     "metadata": {},
     "output_type": "execute_result"
    }
   ],
   "source": [
    "# Example 3\n",
    "db_chain.run(\"Which employee was hired most recently?\")"
   ]
  }
 ],
 "metadata": {
  "kernelspec": {
   "display_name": "Python 3 (ipykernel)",
   "language": "python",
   "name": "python3"
  },
  "language_info": {
   "codemirror_mode": {
    "name": "ipython",
    "version": 3
   },
   "file_extension": ".py",
   "mimetype": "text/x-python",
   "name": "python",
   "nbconvert_exporter": "python",
   "pygments_lexer": "ipython3",
   "version": "3.9.16"
  }
 },
 "nbformat": 4,
 "nbformat_minor": 5
}
