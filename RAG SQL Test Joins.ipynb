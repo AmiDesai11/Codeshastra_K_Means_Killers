{
 "cells": [
  {
   "cell_type": "markdown",
   "id": "1b428267",
   "metadata": {},
   "source": [
    "# ============================================================="
   ]
  },
  {
   "cell_type": "markdown",
   "id": "13ee84a0",
   "metadata": {},
   "source": [
    "# RAG Implementation with MSSQL: Joins"
   ]
  },
  {
   "cell_type": "markdown",
   "id": "8cdf0a10",
   "metadata": {},
   "source": [
    "# ============================================================="
   ]
  },
  {
   "cell_type": "markdown",
   "id": "176f6233",
   "metadata": {},
   "source": [
    "### Libraries"
   ]
  },
  {
   "cell_type": "code",
   "execution_count": 1,
   "id": "91bdabda",
   "metadata": {},
   "outputs": [],
   "source": [
    "# !pip install -U langchain langchain_experimental\n",
    "# !pip install typing-extensions --upgrade\n",
    "\n",
    "from langchain.llms import LlamaCpp\n",
    "from langchain_community.utilities import SQLDatabase\n",
    "from langchain_experimental.sql import SQLDatabaseChain\n",
    "from langchain.chains import create_sql_query_chain"
   ]
  },
  {
   "cell_type": "markdown",
   "id": "a388c536",
   "metadata": {},
   "source": [
    "### Database Connection in Langchain "
   ]
  },
  {
   "cell_type": "code",
   "execution_count": 2,
   "id": "fd2cceac",
   "metadata": {},
   "outputs": [],
   "source": [
    "# Connection string\n",
    "uri = \"mssql+pyodbc://@DESKTOP-UM221JG\\\\SQLEXPRESS/Test?driver=ODBC+Driver+17+for+SQL+Server&Trusted_Connection=yes\"\n",
    "db = SQLDatabase.from_uri(uri, include_tables=[\"Client_Historical_Orders\", \"Client_Portfolio\"])"
   ]
  },
  {
   "cell_type": "code",
   "execution_count": 3,
   "id": "9e7d5b86",
   "metadata": {},
   "outputs": [
    {
     "name": "stdout",
     "output_type": "stream",
     "text": [
      "\n",
      "CREATE TABLE [Client_Historical_Orders] (\n",
      "\torder_id INTEGER NOT NULL, \n",
      "\tclient_id INTEGER NULL, \n",
      "\tclient_name VARCHAR(255) COLLATE SQL_Latin1_General_CP1_CI_AS NULL, \n",
      "\tscrip_name VARCHAR(255) COLLATE SQL_Latin1_General_CP1_CI_AS NULL, \n",
      "\torder_date DATE NULL, \n",
      "\torder_price DECIMAL(18, 2) NULL, \n",
      "\torder_quantity INTEGER NULL, \n",
      "\torder_type VARCHAR(50) COLLATE SQL_Latin1_General_CP1_CI_AS NULL, \n",
      "\torder_status VARCHAR(50) COLLATE SQL_Latin1_General_CP1_CI_AS NULL, \n",
      "\tCONSTRAINT [PK__Client_H__465962299F72C4D0] PRIMARY KEY (order_id)\n",
      ")\n",
      "\n",
      "/*\n",
      "3 rows from Client_Historical_Orders table:\n",
      "order_id\tclient_id\tclient_name\tscrip_name\torder_date\torder_price\torder_quantity\torder_type\torder_status\n",
      "1\t101\tClientA\tRIL\t2023-01-10\t2800.00\t100000\tSell\tOpen\n",
      "2\t102\tClientB\tRIL\t2023-01-11\t2750.00\t50000\tSell\tOpen\n",
      "3\t103\tClientC\tRIL\t2023-01-12\t2700.00\t75000\tSell\tOpen\n",
      "*/\n",
      "\n",
      "\n",
      "CREATE TABLE [Client_Portfolio] (\n",
      "\tclient_id INTEGER NULL, \n",
      "\tclient_name VARCHAR(255) COLLATE SQL_Latin1_General_CP1_CI_AS NULL, \n",
      "\tscrip_name VARCHAR(255) COLLATE SQL_Latin1_General_CP1_CI_AS NULL, \n",
      "\t[current_date] DATE NULL, \n",
      "\tbuy_price DECIMAL(18, 2) NULL, \n",
      "\theld_quantity INTEGER NULL\n",
      ")\n",
      "\n",
      "/*\n",
      "3 rows from Client_Portfolio table:\n",
      "client_id\tclient_name\tscrip_name\tcurrent_date\tbuy_price\theld_quantity\n",
      "101\tClientA\tRIL\t2023-01-01\t2700.00\t200000\n",
      "102\tClientB\tRIL\t2023-01-02\t2750.00\t100000\n",
      "103\tClientC\tRIL\t2023-01-03\t2800.00\t150000\n",
      "*/\n"
     ]
    }
   ],
   "source": [
    "# Table information schema\n",
    "print(db.table_info)"
   ]
  },
  {
   "cell_type": "markdown",
   "id": "91ca53db",
   "metadata": {},
   "source": [
    "### Loading Mistral-Instruct LLM "
   ]
  },
  {
   "cell_type": "code",
   "execution_count": 4,
   "id": "e0b6362a",
   "metadata": {},
   "outputs": [
    {
     "name": "stderr",
     "output_type": "stream",
     "text": [
      "AVX = 1 | AVX2 = 1 | AVX512 = 1 | AVX512_VBMI = 0 | AVX512_VNNI = 0 | FMA = 1 | NEON = 0 | ARM_FMA = 0 | F16C = 1 | FP16_VA = 0 | WASM_SIMD = 0 | BLAS = 0 | SSE3 = 1 | SSSE3 = 0 | VSX = 0 | \n"
     ]
    }
   ],
   "source": [
    "# Defining the model specs for optimized performance \n",
    "llama_model_path = r\"C:\\Users\\DELL\\Desktop\\KSIE\\KSIE LLM Chatbot\\Models\\mistral-7b-instruct-v0.1.Q8_0.gguf\"\n",
    "model_n_ctx = 2048\n",
    "model_n_batch = 512\n",
    "\n",
    "# Initializing the LLM object\n",
    "llm = LlamaCpp(model_path=llama_model_path, n_batch=model_n_batch, n_ctx=model_n_ctx, verbose=True)"
   ]
  },
  {
   "cell_type": "markdown",
   "id": "31fb0f24",
   "metadata": {},
   "source": [
    "### Creating the Retreival Chain"
   ]
  },
  {
   "cell_type": "code",
   "execution_count": 5,
   "id": "a86c25a3",
   "metadata": {},
   "outputs": [],
   "source": [
    "db_chain = SQLDatabaseChain.from_llm(llm, db, use_query_checker=True, verbose=True)"
   ]
  },
  {
   "cell_type": "markdown",
   "id": "d433e9cd",
   "metadata": {},
   "source": [
    "### Execution "
   ]
  },
  {
   "cell_type": "code",
   "execution_count": 6,
   "id": "e2a0bff2",
   "metadata": {
    "scrolled": true
   },
   "outputs": [
    {
     "name": "stdout",
     "output_type": "stream",
     "text": [
      "\n",
      "\n",
      "\u001b[1m> Entering new SQLDatabaseChain chain...\u001b[0m\n",
      "Find all clients with RIL scrip in their portfolio at portfolio buy price lesser than 2738 rupees, who have also placed sell orders with open status for RIL.\n",
      "SQLQuery:"
     ]
    },
    {
     "name": "stderr",
     "output_type": "stream",
     "text": [
      "Llama.generate: prefix-match hit\n"
     ]
    },
    {
     "name": "stdout",
     "output_type": "stream",
     "text": [
      "\u001b[32;1m\u001b[1;3mSELECT Client_Historical_Orders.client_name, Client_Historical_Orders.scrip_name, Client_Portfolio.buy_price\n",
      "FROM Client_Historical_Orders \n",
      "INNER JOIN Client_Portfolio ON Client_Historical_Orders.client_id = Client_Portfolio.client_id \n",
      "WHERE Client_Historical_Orders.scrip_name = 'RIL' AND Client_Portfolio.buy_price < CAST(2738 as decimal(18, 2))\n",
      "AND Client_Historical_Orders.order_type = 'Sell' AND Client_Historical_Orders.order_status = 'Open'\n",
      "ORDER BY Client_Historical_Orders.client_name ASC;\u001b[0m\n",
      "SQLResult: \u001b[33;1m\u001b[1;3m[('ClientA', 'RIL', Decimal('2700.00'))]\u001b[0m\n",
      "Answer:"
     ]
    },
    {
     "name": "stderr",
     "output_type": "stream",
     "text": [
      "Llama.generate: prefix-match hit\n"
     ]
    },
    {
     "name": "stdout",
     "output_type": "stream",
     "text": [
      "\u001b[32;1m\u001b[1;3mClientA is the only client with RIL scrip in their portfolio at a buy price less than 2738 rupees and who has placed sell orders with an open status for RIL.\u001b[0m\n",
      "\u001b[1m> Finished chain.\u001b[0m\n"
     ]
    },
    {
     "data": {
      "text/plain": [
       "{'query': 'Find all clients with RIL scrip in their portfolio at portfolio buy price lesser than 2738 rupees, who have also placed sell orders with open status for RIL.',\n",
       " 'result': 'ClientA is the only client with RIL scrip in their portfolio at a buy price less than 2738 rupees and who has placed sell orders with an open status for RIL.'}"
      ]
     },
     "execution_count": 6,
     "metadata": {},
     "output_type": "execute_result"
    }
   ],
   "source": [
    "# Example 1: \n",
    "# Order: Buy RIL at Rs. 2738\n",
    "# Match: Open Sell order with original Buy < Rs. 2738\n",
    "query = \"Find all clients with RIL scrip in their portfolio at portfolio buy price lesser than 2738 rupees, who have also placed sell orders with open status for RIL.\"\n",
    "\n",
    "db_chain.invoke(query)"
   ]
  }
 ],
 "metadata": {
  "kernelspec": {
   "display_name": "Python 3 (ipykernel)",
   "language": "python",
   "name": "python3"
  },
  "language_info": {
   "codemirror_mode": {
    "name": "ipython",
    "version": 3
   },
   "file_extension": ".py",
   "mimetype": "text/x-python",
   "name": "python",
   "nbconvert_exporter": "python",
   "pygments_lexer": "ipython3",
   "version": "3.9.16"
  }
 },
 "nbformat": 4,
 "nbformat_minor": 5
}
