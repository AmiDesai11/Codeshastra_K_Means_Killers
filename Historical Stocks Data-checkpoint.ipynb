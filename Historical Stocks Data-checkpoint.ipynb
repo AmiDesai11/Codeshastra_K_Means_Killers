{
 "cells": [
  {
   "cell_type": "code",
   "execution_count": 1,
   "id": "e615de22",
   "metadata": {},
   "outputs": [],
   "source": [
    "import yfinance as yf\n",
    "import json\n",
    "import pandas as pd"
   ]
  },
  {
   "cell_type": "code",
   "execution_count": 2,
   "id": "bb0ac10c",
   "metadata": {},
   "outputs": [],
   "source": [
    "class StockDataDownloader:\n",
    "    def __init__(self, config_file_path):\n",
    "        \"\"\"\n",
    "        Initialize StockDataDownloader object.\n",
    "\n",
    "        Parameters:\n",
    "        - config_file_path (str): Path to the configuration JSON file.\n",
    "        \"\"\"\n",
    "        # Read JSON file\n",
    "        self.config_file_path = config_file_path\n",
    "        with open(config_file_path, encoding=\"utf-8\") as f:\n",
    "            self.config = json.load(f)\n",
    "\n",
    "    def download_data(self):\n",
    "        \"\"\"\n",
    "        Download data for each stock symbol and save it into a single CSV file.\n",
    "        \"\"\"\n",
    "        # Initialize an empty DataFrame to store data\n",
    "        all_data = pd.DataFrame()\n",
    "\n",
    "        # Iterate over each stock symbol\n",
    "        for symbol in self.config[\"all_symbols\"]:\n",
    "            # Download data using yfinance\n",
    "            data = yf.download(symbol, period=\"3y\")\n",
    "            # Add the symbol column\n",
    "            data[\"Symbol\"] = symbol\n",
    "            # Concatenate data to the main DataFrame\n",
    "            all_data = pd.concat([all_data, data])\n",
    "\n",
    "        # Save data to a CSV file\n",
    "        all_data.to_csv(self.config[\"historical_stock_data_file_path\"], index=True)\n",
    "        print(\"Data downloaded and saved successfully.\")"
   ]
  },
  {
   "cell_type": "code",
   "execution_count": 3,
   "id": "63799a6e",
   "metadata": {},
   "outputs": [
    {
     "name": "stderr",
     "output_type": "stream",
     "text": [
      "\r",
      "[*********************100%%**********************]  1 of 1 completed"
     ]
    },
    {
     "name": "stdout",
     "output_type": "stream",
     "text": [
      "Data downloaded and saved successfully.\n"
     ]
    },
    {
     "name": "stderr",
     "output_type": "stream",
     "text": [
      "\n"
     ]
    }
   ],
   "source": [
    "if __name__ == \"__main__\":\n",
    "    config_file = r\"C:\\Users\\DELL\\Desktop\\Projects\\Codeshastra X\\Config File\\Historical_Stock_Data_Configuration.JSON\"\n",
    "    downloader = StockDataDownloader(config_file)\n",
    "    downloader.download_data()"
   ]
  }
 ],
 "metadata": {
  "kernelspec": {
   "display_name": "Python 3 (ipykernel)",
   "language": "python",
   "name": "python3"
  },
  "language_info": {
   "codemirror_mode": {
    "name": "ipython",
    "version": 3
   },
   "file_extension": ".py",
   "mimetype": "text/x-python",
   "name": "python",
   "nbconvert_exporter": "python",
   "pygments_lexer": "ipython3",
   "version": "3.9.16"
  }
 },
 "nbformat": 4,
 "nbformat_minor": 5
}
